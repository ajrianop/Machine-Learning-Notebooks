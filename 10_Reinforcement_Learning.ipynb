{
 "cells": [
  {
   "cell_type": "markdown",
   "id": "c0621230",
   "metadata": {},
   "source": [
    "# **Reinforcement Learning**"
   ]
  },
  {
   "cell_type": "code",
   "execution_count": 22,
   "id": "38e4fb89",
   "metadata": {
    "scrolled": true
   },
   "outputs": [],
   "source": [
    "# In order to run the code, will be neccessary to install the following version of gym\n",
    "#pip install gym==0.15.3"
   ]
  },
  {
   "cell_type": "markdown",
   "id": "671dd8ac",
   "metadata": {},
   "source": [
    "## **Problem**"
   ]
  },
  {
   "cell_type": "markdown",
   "id": "30146d3e",
   "metadata": {},
   "source": [
    "The idea is to develop an application that can represent a self-driving taxi capable of picking up passengers from any location on the map. Furthermore, we aim to optimize the time the taxi spends transporting passengers to their desired destinations."
   ]
  },
  {
   "cell_type": "code",
   "execution_count": 23,
   "id": "59cf94ae",
   "metadata": {},
   "outputs": [
    {
     "name": "stdout",
     "output_type": "stream",
     "text": [
      "+---------+\n",
      "|\u001b[35mR\u001b[0m: | : :G|\n",
      "| : | : : |\n",
      "| : : : :\u001b[43m \u001b[0m|\n",
      "| | : | : |\n",
      "|\u001b[34;1mY\u001b[0m| : |B: |\n",
      "+---------+\n",
      "\n"
     ]
    }
   ],
   "source": [
    "import gym\n",
    "import random\n",
    "\n",
    "random.seed(1234)\n",
    "\n",
    "streets = gym.make(\"Taxi-v3\").env\n",
    "streets.render()"
   ]
  },
  {
   "cell_type": "markdown",
   "id": "4f590280",
   "metadata": {},
   "source": [
    "We are going to give the initial state, where the taxi location is (1,4) (location with color yellow), the passenger and the pickup location 3 (is the location B), and the destination 0 (is the location R)."
   ]
  },
  {
   "cell_type": "code",
   "execution_count": 24,
   "id": "1f2ea3cd",
   "metadata": {},
   "outputs": [
    {
     "name": "stdout",
     "output_type": "stream",
     "text": [
      "+---------+\n",
      "|\u001b[35mR\u001b[0m: | : :G|\n",
      "| : | : :\u001b[43m \u001b[0m|\n",
      "| : : : : |\n",
      "| | : | : |\n",
      "|Y| : |\u001b[34;1mB\u001b[0m: |\n",
      "+---------+\n",
      "\n"
     ]
    }
   ],
   "source": [
    "# To initialize the problem change the arguments\n",
    "initial_state = streets.encode(1, 4, 3, 0)\n",
    "# Define the location defined in the previous line\n",
    "streets.s = initial_state\n",
    "# To describe the problem where we are going to work\n",
    "streets.render()"
   ]
  },
  {
   "cell_type": "code",
   "execution_count": 13,
   "id": "04b7b698",
   "metadata": {},
   "outputs": [
    {
     "name": "stdout",
     "output_type": "stream",
     "text": [
      "+---------+\n",
      "|\u001b[35mR\u001b[0m: | : :G|\n",
      "| : | : : |\n",
      "| : : :\u001b[43m \u001b[0m: |\n",
      "| | : | : |\n",
      "|\u001b[34;1mY\u001b[0m| : |B: |\n",
      "+---------+\n",
      "\n"
     ]
    }
   ],
   "source": []
  }
 ],
 "metadata": {
  "kernelspec": {
   "display_name": "Python 3 (ipykernel)",
   "language": "python",
   "name": "python3"
  },
  "language_info": {
   "codemirror_mode": {
    "name": "ipython",
    "version": 3
   },
   "file_extension": ".py",
   "mimetype": "text/x-python",
   "name": "python",
   "nbconvert_exporter": "python",
   "pygments_lexer": "ipython3",
   "version": "3.9.13"
  }
 },
 "nbformat": 4,
 "nbformat_minor": 5
}
