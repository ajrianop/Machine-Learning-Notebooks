{
  "nbformat": 4,
  "nbformat_minor": 0,
  "metadata": {
    "colab": {
      "provenance": [],
      "authorship_tag": "ABX9TyMSbf4tO/wQCRH5eweBzYoN",
      "include_colab_link": true
    },
    "kernelspec": {
      "name": "python3",
      "display_name": "Python 3"
    },
    "language_info": {
      "name": "python"
    }
  },
  "cells": [
    {
      "cell_type": "markdown",
      "metadata": {
        "id": "view-in-github",
        "colab_type": "text"
      },
      "source": [
        "<a href=\"https://colab.research.google.com/github/ajrianop/Machine-Learning-Notebooks/blob/main/09_Principal_Component_Analysis.ipynb\" target=\"_parent\"><img src=\"https://colab.research.google.com/assets/colab-badge.svg\" alt=\"Open In Colab\"/></a>"
      ]
    },
    {
      "cell_type": "markdown",
      "source": [
        "# **PCA or Principal Components Analysis**"
      ],
      "metadata": {
        "id": "Hn1RD91xP8bY"
      }
    },
    {
      "cell_type": "markdown",
      "source": [
        "We have several problems that have a huge number of dimensions, so dimensionality reduction becomes necessary to distill higher dimensionality data while preserving variance as much as possible.\n",
        "\n",
        "One example where we can observe dimensionality reduction is K-Means, where the data is reduced down to k-dimensions.\n",
        "\n",
        "PCA (Principal Component Analysis) involves a high-level technique that utilizes linear algebra and probability theory. The idea behind PCA is to find the eigenvectors in the higher dimensionality space such that the hyperplanes associated with these vectors capture the most variance. This allows us to project the information onto these hyperplanes, which then serve as representations of our information with a smaller number of dimensions. The implementation of this technique is called Singular Value Decomposition (SVD)."
      ],
      "metadata": {
        "id": "8q2ErIC8P_DN"
      }
    },
    {
      "cell_type": "markdown",
      "source": [
        "We are going to work with the load_iris dataset, which can be found in the sklearn library. This dataset comprises samples of three different species of iris flowers, along with various measurements including sepal length, sepal width, petal length, and petal width.\n",
        "\n",
        "This dataset is commonly used for classification and clustering tasks in machine learning.\n"
      ],
      "metadata": {
        "id": "C-v614WCaHjV"
      }
    },
    {
      "cell_type": "markdown",
      "source": [
        "## **Import libraries**"
      ],
      "metadata": {
        "id": "phxe_cwlduLo"
      }
    },
    {
      "cell_type": "code",
      "source": [
        "from sklearn.decomposition import PCA\n",
        "import pylab as pl\n",
        "from itertools import cycle"
      ],
      "metadata": {
        "id": "f4irCo98dtkt"
      },
      "execution_count": null,
      "outputs": []
    },
    {
      "cell_type": "code",
      "execution_count": null,
      "metadata": {
        "id": "yoCN4MGsP7zp",
        "colab": {
          "base_uri": "https://localhost:8080/"
        },
        "outputId": "c3cd114b-3ab3-42a5-b80f-2de5f8ba401d"
      },
      "outputs": [
        {
          "output_type": "execute_result",
          "data": {
            "text/plain": [
              "{'data': array([[5.1, 3.5, 1.4, 0.2],\n",
              "        [4.9, 3. , 1.4, 0.2],\n",
              "        [4.7, 3.2, 1.3, 0.2],\n",
              "        [4.6, 3.1, 1.5, 0.2],\n",
              "        [5. , 3.6, 1.4, 0.2],\n",
              "        [5.4, 3.9, 1.7, 0.4],\n",
              "        [4.6, 3.4, 1.4, 0.3],\n",
              "        [5. , 3.4, 1.5, 0.2],\n",
              "        [4.4, 2.9, 1.4, 0.2],\n",
              "        [4.9, 3.1, 1.5, 0.1],\n",
              "        [5.4, 3.7, 1.5, 0.2],\n",
              "        [4.8, 3.4, 1.6, 0.2],\n",
              "        [4.8, 3. , 1.4, 0.1],\n",
              "        [4.3, 3. , 1.1, 0.1],\n",
              "        [5.8, 4. , 1.2, 0.2],\n",
              "        [5.7, 4.4, 1.5, 0.4],\n",
              "        [5.4, 3.9, 1.3, 0.4],\n",
              "        [5.1, 3.5, 1.4, 0.3],\n",
              "        [5.7, 3.8, 1.7, 0.3],\n",
              "        [5.1, 3.8, 1.5, 0.3],\n",
              "        [5.4, 3.4, 1.7, 0.2],\n",
              "        [5.1, 3.7, 1.5, 0.4],\n",
              "        [4.6, 3.6, 1. , 0.2],\n",
              "        [5.1, 3.3, 1.7, 0.5],\n",
              "        [4.8, 3.4, 1.9, 0.2],\n",
              "        [5. , 3. , 1.6, 0.2],\n",
              "        [5. , 3.4, 1.6, 0.4],\n",
              "        [5.2, 3.5, 1.5, 0.2],\n",
              "        [5.2, 3.4, 1.4, 0.2],\n",
              "        [4.7, 3.2, 1.6, 0.2],\n",
              "        [4.8, 3.1, 1.6, 0.2],\n",
              "        [5.4, 3.4, 1.5, 0.4],\n",
              "        [5.2, 4.1, 1.5, 0.1],\n",
              "        [5.5, 4.2, 1.4, 0.2],\n",
              "        [4.9, 3.1, 1.5, 0.2],\n",
              "        [5. , 3.2, 1.2, 0.2],\n",
              "        [5.5, 3.5, 1.3, 0.2],\n",
              "        [4.9, 3.6, 1.4, 0.1],\n",
              "        [4.4, 3. , 1.3, 0.2],\n",
              "        [5.1, 3.4, 1.5, 0.2],\n",
              "        [5. , 3.5, 1.3, 0.3],\n",
              "        [4.5, 2.3, 1.3, 0.3],\n",
              "        [4.4, 3.2, 1.3, 0.2],\n",
              "        [5. , 3.5, 1.6, 0.6],\n",
              "        [5.1, 3.8, 1.9, 0.4],\n",
              "        [4.8, 3. , 1.4, 0.3],\n",
              "        [5.1, 3.8, 1.6, 0.2],\n",
              "        [4.6, 3.2, 1.4, 0.2],\n",
              "        [5.3, 3.7, 1.5, 0.2],\n",
              "        [5. , 3.3, 1.4, 0.2],\n",
              "        [7. , 3.2, 4.7, 1.4],\n",
              "        [6.4, 3.2, 4.5, 1.5],\n",
              "        [6.9, 3.1, 4.9, 1.5],\n",
              "        [5.5, 2.3, 4. , 1.3],\n",
              "        [6.5, 2.8, 4.6, 1.5],\n",
              "        [5.7, 2.8, 4.5, 1.3],\n",
              "        [6.3, 3.3, 4.7, 1.6],\n",
              "        [4.9, 2.4, 3.3, 1. ],\n",
              "        [6.6, 2.9, 4.6, 1.3],\n",
              "        [5.2, 2.7, 3.9, 1.4],\n",
              "        [5. , 2. , 3.5, 1. ],\n",
              "        [5.9, 3. , 4.2, 1.5],\n",
              "        [6. , 2.2, 4. , 1. ],\n",
              "        [6.1, 2.9, 4.7, 1.4],\n",
              "        [5.6, 2.9, 3.6, 1.3],\n",
              "        [6.7, 3.1, 4.4, 1.4],\n",
              "        [5.6, 3. , 4.5, 1.5],\n",
              "        [5.8, 2.7, 4.1, 1. ],\n",
              "        [6.2, 2.2, 4.5, 1.5],\n",
              "        [5.6, 2.5, 3.9, 1.1],\n",
              "        [5.9, 3.2, 4.8, 1.8],\n",
              "        [6.1, 2.8, 4. , 1.3],\n",
              "        [6.3, 2.5, 4.9, 1.5],\n",
              "        [6.1, 2.8, 4.7, 1.2],\n",
              "        [6.4, 2.9, 4.3, 1.3],\n",
              "        [6.6, 3. , 4.4, 1.4],\n",
              "        [6.8, 2.8, 4.8, 1.4],\n",
              "        [6.7, 3. , 5. , 1.7],\n",
              "        [6. , 2.9, 4.5, 1.5],\n",
              "        [5.7, 2.6, 3.5, 1. ],\n",
              "        [5.5, 2.4, 3.8, 1.1],\n",
              "        [5.5, 2.4, 3.7, 1. ],\n",
              "        [5.8, 2.7, 3.9, 1.2],\n",
              "        [6. , 2.7, 5.1, 1.6],\n",
              "        [5.4, 3. , 4.5, 1.5],\n",
              "        [6. , 3.4, 4.5, 1.6],\n",
              "        [6.7, 3.1, 4.7, 1.5],\n",
              "        [6.3, 2.3, 4.4, 1.3],\n",
              "        [5.6, 3. , 4.1, 1.3],\n",
              "        [5.5, 2.5, 4. , 1.3],\n",
              "        [5.5, 2.6, 4.4, 1.2],\n",
              "        [6.1, 3. , 4.6, 1.4],\n",
              "        [5.8, 2.6, 4. , 1.2],\n",
              "        [5. , 2.3, 3.3, 1. ],\n",
              "        [5.6, 2.7, 4.2, 1.3],\n",
              "        [5.7, 3. , 4.2, 1.2],\n",
              "        [5.7, 2.9, 4.2, 1.3],\n",
              "        [6.2, 2.9, 4.3, 1.3],\n",
              "        [5.1, 2.5, 3. , 1.1],\n",
              "        [5.7, 2.8, 4.1, 1.3],\n",
              "        [6.3, 3.3, 6. , 2.5],\n",
              "        [5.8, 2.7, 5.1, 1.9],\n",
              "        [7.1, 3. , 5.9, 2.1],\n",
              "        [6.3, 2.9, 5.6, 1.8],\n",
              "        [6.5, 3. , 5.8, 2.2],\n",
              "        [7.6, 3. , 6.6, 2.1],\n",
              "        [4.9, 2.5, 4.5, 1.7],\n",
              "        [7.3, 2.9, 6.3, 1.8],\n",
              "        [6.7, 2.5, 5.8, 1.8],\n",
              "        [7.2, 3.6, 6.1, 2.5],\n",
              "        [6.5, 3.2, 5.1, 2. ],\n",
              "        [6.4, 2.7, 5.3, 1.9],\n",
              "        [6.8, 3. , 5.5, 2.1],\n",
              "        [5.7, 2.5, 5. , 2. ],\n",
              "        [5.8, 2.8, 5.1, 2.4],\n",
              "        [6.4, 3.2, 5.3, 2.3],\n",
              "        [6.5, 3. , 5.5, 1.8],\n",
              "        [7.7, 3.8, 6.7, 2.2],\n",
              "        [7.7, 2.6, 6.9, 2.3],\n",
              "        [6. , 2.2, 5. , 1.5],\n",
              "        [6.9, 3.2, 5.7, 2.3],\n",
              "        [5.6, 2.8, 4.9, 2. ],\n",
              "        [7.7, 2.8, 6.7, 2. ],\n",
              "        [6.3, 2.7, 4.9, 1.8],\n",
              "        [6.7, 3.3, 5.7, 2.1],\n",
              "        [7.2, 3.2, 6. , 1.8],\n",
              "        [6.2, 2.8, 4.8, 1.8],\n",
              "        [6.1, 3. , 4.9, 1.8],\n",
              "        [6.4, 2.8, 5.6, 2.1],\n",
              "        [7.2, 3. , 5.8, 1.6],\n",
              "        [7.4, 2.8, 6.1, 1.9],\n",
              "        [7.9, 3.8, 6.4, 2. ],\n",
              "        [6.4, 2.8, 5.6, 2.2],\n",
              "        [6.3, 2.8, 5.1, 1.5],\n",
              "        [6.1, 2.6, 5.6, 1.4],\n",
              "        [7.7, 3. , 6.1, 2.3],\n",
              "        [6.3, 3.4, 5.6, 2.4],\n",
              "        [6.4, 3.1, 5.5, 1.8],\n",
              "        [6. , 3. , 4.8, 1.8],\n",
              "        [6.9, 3.1, 5.4, 2.1],\n",
              "        [6.7, 3.1, 5.6, 2.4],\n",
              "        [6.9, 3.1, 5.1, 2.3],\n",
              "        [5.8, 2.7, 5.1, 1.9],\n",
              "        [6.8, 3.2, 5.9, 2.3],\n",
              "        [6.7, 3.3, 5.7, 2.5],\n",
              "        [6.7, 3. , 5.2, 2.3],\n",
              "        [6.3, 2.5, 5. , 1.9],\n",
              "        [6.5, 3. , 5.2, 2. ],\n",
              "        [6.2, 3.4, 5.4, 2.3],\n",
              "        [5.9, 3. , 5.1, 1.8]]),\n",
              " 'target': array([0, 0, 0, 0, 0, 0, 0, 0, 0, 0, 0, 0, 0, 0, 0, 0, 0, 0, 0, 0, 0, 0,\n",
              "        0, 0, 0, 0, 0, 0, 0, 0, 0, 0, 0, 0, 0, 0, 0, 0, 0, 0, 0, 0, 0, 0,\n",
              "        0, 0, 0, 0, 0, 0, 1, 1, 1, 1, 1, 1, 1, 1, 1, 1, 1, 1, 1, 1, 1, 1,\n",
              "        1, 1, 1, 1, 1, 1, 1, 1, 1, 1, 1, 1, 1, 1, 1, 1, 1, 1, 1, 1, 1, 1,\n",
              "        1, 1, 1, 1, 1, 1, 1, 1, 1, 1, 1, 1, 2, 2, 2, 2, 2, 2, 2, 2, 2, 2,\n",
              "        2, 2, 2, 2, 2, 2, 2, 2, 2, 2, 2, 2, 2, 2, 2, 2, 2, 2, 2, 2, 2, 2,\n",
              "        2, 2, 2, 2, 2, 2, 2, 2, 2, 2, 2, 2, 2, 2, 2, 2, 2, 2]),\n",
              " 'frame': None,\n",
              " 'target_names': array(['setosa', 'versicolor', 'virginica'], dtype='<U10'),\n",
              " 'DESCR': '.. _iris_dataset:\\n\\nIris plants dataset\\n--------------------\\n\\n**Data Set Characteristics:**\\n\\n    :Number of Instances: 150 (50 in each of three classes)\\n    :Number of Attributes: 4 numeric, predictive attributes and the class\\n    :Attribute Information:\\n        - sepal length in cm\\n        - sepal width in cm\\n        - petal length in cm\\n        - petal width in cm\\n        - class:\\n                - Iris-Setosa\\n                - Iris-Versicolour\\n                - Iris-Virginica\\n                \\n    :Summary Statistics:\\n\\n    ============== ==== ==== ======= ===== ====================\\n                    Min  Max   Mean    SD   Class Correlation\\n    ============== ==== ==== ======= ===== ====================\\n    sepal length:   4.3  7.9   5.84   0.83    0.7826\\n    sepal width:    2.0  4.4   3.05   0.43   -0.4194\\n    petal length:   1.0  6.9   3.76   1.76    0.9490  (high!)\\n    petal width:    0.1  2.5   1.20   0.76    0.9565  (high!)\\n    ============== ==== ==== ======= ===== ====================\\n\\n    :Missing Attribute Values: None\\n    :Class Distribution: 33.3% for each of 3 classes.\\n    :Creator: R.A. Fisher\\n    :Donor: Michael Marshall (MARSHALL%PLU@io.arc.nasa.gov)\\n    :Date: July, 1988\\n\\nThe famous Iris database, first used by Sir R.A. Fisher. The dataset is taken\\nfrom Fisher\\'s paper. Note that it\\'s the same as in R, but not as in the UCI\\nMachine Learning Repository, which has two wrong data points.\\n\\nThis is perhaps the best known database to be found in the\\npattern recognition literature.  Fisher\\'s paper is a classic in the field and\\nis referenced frequently to this day.  (See Duda & Hart, for example.)  The\\ndata set contains 3 classes of 50 instances each, where each class refers to a\\ntype of iris plant.  One class is linearly separable from the other 2; the\\nlatter are NOT linearly separable from each other.\\n\\n.. topic:: References\\n\\n   - Fisher, R.A. \"The use of multiple measurements in taxonomic problems\"\\n     Annual Eugenics, 7, Part II, 179-188 (1936); also in \"Contributions to\\n     Mathematical Statistics\" (John Wiley, NY, 1950).\\n   - Duda, R.O., & Hart, P.E. (1973) Pattern Classification and Scene Analysis.\\n     (Q327.D83) John Wiley & Sons.  ISBN 0-471-22361-1.  See page 218.\\n   - Dasarathy, B.V. (1980) \"Nosing Around the Neighborhood: A New System\\n     Structure and Classification Rule for Recognition in Partially Exposed\\n     Environments\".  IEEE Transactions on Pattern Analysis and Machine\\n     Intelligence, Vol. PAMI-2, No. 1, 67-71.\\n   - Gates, G.W. (1972) \"The Reduced Nearest Neighbor Rule\".  IEEE Transactions\\n     on Information Theory, May 1972, 431-433.\\n   - See also: 1988 MLC Proceedings, 54-64.  Cheeseman et al\"s AUTOCLASS II\\n     conceptual clustering system finds 3 classes in the data.\\n   - Many, many more ...',\n",
              " 'feature_names': ['sepal length (cm)',\n",
              "  'sepal width (cm)',\n",
              "  'petal length (cm)',\n",
              "  'petal width (cm)'],\n",
              " 'filename': 'iris.csv',\n",
              " 'data_module': 'sklearn.datasets.data'}"
            ]
          },
          "metadata": {},
          "execution_count": 2
        }
      ],
      "source": [
        "# Iris dataset\n",
        "from sklearn.datasets import load_iris\n",
        "\n",
        "iris = load_iris()\n",
        "iris"
      ]
    },
    {
      "cell_type": "code",
      "source": [
        "numSamples, numFeatures = iris.data.shape\n",
        "print(f'Let us examine some of the information contained in the iris dictionary:\\n')\n",
        "print(f'The number of samples (rows) is  {numSamples}')\n",
        "print(f'The number of features (columns) is  {numFeatures}')\n",
        "print(f'The different iris species that we have are {list(iris.target_names)}')"
      ],
      "metadata": {
        "colab": {
          "base_uri": "https://localhost:8080/"
        },
        "id": "pKssn4oXdsP-",
        "outputId": "1af303d1-c86b-4704-bf5e-403fea706dff"
      },
      "execution_count": null,
      "outputs": [
        {
          "output_type": "stream",
          "name": "stdout",
          "text": [
            "Let us examine some of the information contained in the iris dictionary:\n",
            "\n",
            "The number of samples (rows) is  150\n",
            "The number of features (columns) is  4\n",
            "The different iris species that we have are ['setosa', 'versicolor', 'virginica']\n"
          ]
        }
      ]
    },
    {
      "cell_type": "markdown",
      "source": [
        "According to the previous dataset, we aim to apply PCA to reduce the dimensionality of the dataset, specifically from 4 features to 2."
      ],
      "metadata": {
        "id": "y8nOYJa7euxW"
      }
    },
    {
      "cell_type": "code",
      "source": [
        "# Extracting the features and sample\n",
        "X = iris.data\n",
        "\n",
        "# Initializing the Principal Component Analysis technique\n",
        "pca = PCA(n_components=2, whiten=True)\n",
        "\n",
        "# Training the Principal Component Analysis technique\n",
        "pca = pca.fit(X)\n",
        "\n",
        "# Transforming the data according to PCA to only 2 features\n",
        "X_pca = pca.transform(X)\n",
        "\n",
        "X_pca"
      ],
      "metadata": {
        "colab": {
          "base_uri": "https://localhost:8080/"
        },
        "id": "TNtZ4BDHd3k1",
        "outputId": "5174909e-c135-4301-d223-a027025a3576"
      },
      "execution_count": null,
      "outputs": [
        {
          "output_type": "execute_result",
          "data": {
            "text/plain": [
              "array([[-1.30533786,  0.64836932],\n",
              "       [-1.31993521, -0.35930856],\n",
              "       [-1.40496732, -0.29424412],\n",
              "       [-1.33510889, -0.64613986],\n",
              "       [-1.32702321,  0.6633044 ],\n",
              "       [-1.10922246,  1.50488434],\n",
              "       [-1.3716775 , -0.18160462],\n",
              "       [-1.27714084,  0.33166784],\n",
              "       [-1.40369908, -1.17396001],\n",
              "       [-1.29980851, -0.23095919],\n",
              "       [-1.2191728 ,  1.30947554],\n",
              "       [-1.27062918,  0.02990145],\n",
              "       [-1.35493432, -0.47727214],\n",
              "       [-1.5677929 , -1.03811965],\n",
              "       [-1.28618899,  2.39286603],\n",
              "       [-1.16037307,  2.71623681],\n",
              "       [-1.2758681 ,  1.64566141],\n",
              "       [-1.28791362,  0.63304684],\n",
              "       [-1.06981161,  1.77184386],\n",
              "       [-1.25858365,  1.04251602],\n",
              "       [-1.12351854,  0.79442356],\n",
              "       [-1.23704894,  0.87897239],\n",
              "       [-1.56396833,  0.27093722],\n",
              "       [-1.11985996,  0.20037678],\n",
              "       [-1.14564495, -0.07568135],\n",
              "       [-1.21903752, -0.29641102],\n",
              "       [-1.20063096,  0.26582861],\n",
              "       [-1.24610158,  0.74646111],\n",
              "       [-1.28365251,  0.63343423],\n",
              "       [-1.27998309, -0.39982691],\n",
              "       [-1.25829774, -0.414762  ],\n",
              "       [-1.17199289,  0.83416713],\n",
              "       [-1.2881887 ,  1.65111049],\n",
              "       [-1.26381174,  2.21906161],\n",
              "       [-1.28238428, -0.24628167],\n",
              "       [-1.39390411,  0.14080834],\n",
              "       [-1.27669979,  1.21670783],\n",
              "       [-1.36202232,  0.54534082],\n",
              "       [-1.44947097, -0.9905446 ],\n",
              "       [-1.25956597,  0.4649539 ],\n",
              "       [-1.3471499 ,  0.53495504],\n",
              "       [-1.3856985 , -1.91012906],\n",
              "       [-1.45769193, -0.6941023 ],\n",
              "       [-1.16989296,  0.38340481],\n",
              "       [-1.07451378,  0.88641648],\n",
              "       [-1.32008584, -0.5079171 ],\n",
              "       [-1.23434648,  1.02264423],\n",
              "       [-1.38088078, -0.46272444],\n",
              "       [-1.23674767,  1.17618947],\n",
              "       [-1.31469177,  0.21864095],\n",
              "       [ 0.6248335 ,  1.39086054],\n",
              "       [ 0.4534857 ,  0.64621021],\n",
              "       [ 0.71211617,  1.02364231],\n",
              "       [ 0.08915066, -1.6807384 ],\n",
              "       [ 0.5291639 ,  0.15141741],\n",
              "       [ 0.31205505, -0.84903186],\n",
              "       [ 0.53254741,  0.57543429],\n",
              "       [-0.36431163, -2.03990633],\n",
              "       [ 0.50777981,  0.46356958],\n",
              "       [-0.00425305, -1.46784021],\n",
              "       [-0.24697202, -2.5698934 ],\n",
              "       [ 0.24884808, -0.2110796 ],\n",
              "       [ 0.12886277, -1.1165618 ],\n",
              "       [ 0.47899111, -0.25337747],\n",
              "       [-0.08458299, -0.51734838],\n",
              "       [ 0.45123514,  0.948364  ],\n",
              "       [ 0.3211077 , -0.71652058],\n",
              "       [ 0.11482204, -0.67722245],\n",
              "       [ 0.45944076, -1.1025734 ],\n",
              "       [ 0.02199468, -1.18517082],\n",
              "       [ 0.54286829, -0.17177033],\n",
              "       [ 0.17404748, -0.13991628],\n",
              "       [ 0.63132983, -0.66540095],\n",
              "       [ 0.44825311, -0.37095366],\n",
              "       [ 0.34764584,  0.30258026],\n",
              "       [ 0.43777075,  0.66685678],\n",
              "       [ 0.64778709,  0.49620955],\n",
              "       [ 0.7575868 ,  0.54300982],\n",
              "       [ 0.39551766, -0.33159748],\n",
              "       [-0.14861081, -0.74756406],\n",
              "       [-0.03313112, -1.43148376],\n",
              "       [-0.09221677, -1.38096702],\n",
              "       [ 0.0663477 , -0.63747887],\n",
              "       [ 0.67113131, -0.85452785],\n",
              "       [ 0.28595795, -0.98309271],\n",
              "       [ 0.3923895 ,  0.39418579],\n",
              "       [ 0.59364361,  0.82745872],\n",
              "       [ 0.39639526, -0.75522697],\n",
              "       [ 0.11961358, -0.54509856],\n",
              "       [ 0.0809297 , -1.3842961 ],\n",
              "       [ 0.22604062, -1.36152954],\n",
              "       [ 0.43321922, -0.06996206],\n",
              "       [ 0.11211959, -0.82089429],\n",
              "       [-0.34262628, -2.05484142],\n",
              "       [ 0.17360643, -1.02495627],\n",
              "       [ 0.16142562, -0.43168428],\n",
              "       [ 0.18296034, -0.59522791],\n",
              "       [ 0.3124961 ,  0.03600813],\n",
              "       [-0.44083236, -1.53485274],\n",
              "       [ 0.14540941, -0.7082548 ],\n",
              "       [ 1.23096388, -0.01999347],\n",
              "       [ 0.68825429, -1.16706741],\n",
              "       [ 1.27253592,  0.69811576],\n",
              "       [ 0.95879049, -0.36484365],\n",
              "       [ 1.14284953, -0.08172883],\n",
              "       [ 1.65204014,  1.11818621],\n",
              "       [ 0.25348448, -2.42127372],\n",
              "       [ 1.42616907,  0.72165711],\n",
              "       [ 1.12885471, -0.49497253],\n",
              "       [ 1.41846769,  1.58905027],\n",
              "       [ 0.80815022,  0.49171829],\n",
              "       [ 0.87702633, -0.43773957],\n",
              "       [ 1.05316567,  0.43903463],\n",
              "       [ 0.65466321, -1.57692399],\n",
              "       [ 0.771265  , -1.09545866],\n",
              "       [ 0.92617089,  0.24207626],\n",
              "       [ 0.94816834,  0.08514389],\n",
              "       [ 1.69581683,  2.38672472],\n",
              "       [ 1.84588964,  0.52235992],\n",
              "       [ 0.63259806, -1.54511685],\n",
              "       [ 1.18069088,  0.7677295 ],\n",
              "       [ 0.58309549, -1.23035234],\n",
              "       [ 1.70207314,  0.93515819],\n",
              "       [ 0.67538158, -0.41492609],\n",
              "       [ 1.10658218,  0.68002349],\n",
              "       [ 1.27127853,  1.13861729],\n",
              "       [ 0.61203482, -0.36479674],\n",
              "       [ 0.6279004 , -0.23683477],\n",
              "       [ 1.03274856, -0.42574618],\n",
              "       [ 1.16132819,  0.94320848],\n",
              "       [ 1.38195584,  0.76178807],\n",
              "       [ 1.57113386,  2.7895246 ],\n",
              "       [ 1.0501728 , -0.44106866],\n",
              "       [ 0.70232121, -0.29112604],\n",
              "       [ 0.86627524, -1.01478931],\n",
              "       [ 1.49615644,  1.39679864],\n",
              "       [ 1.04278353,  0.28432722],\n",
              "       [ 0.92648299,  0.10007897],\n",
              "       [ 0.56866412, -0.33492657],\n",
              "       [ 1.02496865,  0.75573611],\n",
              "       [ 1.12541445,  0.37280802],\n",
              "       [ 0.9348329 ,  0.83067395],\n",
              "       [ 0.68825429, -1.16706741],\n",
              "       [ 1.24643883,  0.56405491],\n",
              "       [ 1.17627914,  0.61873357],\n",
              "       [ 0.94545505,  0.38068641],\n",
              "       [ 0.74268819, -0.76188514],\n",
              "       [ 0.85803259,  0.16008172],\n",
              "       [ 0.9244616 ,  0.23675217],\n",
              "       [ 0.67607348, -0.57379543]])"
            ]
          },
          "metadata": {},
          "execution_count": 4
        }
      ]
    },
    {
      "cell_type": "markdown",
      "source": [
        "### **PCA with 2-components**"
      ],
      "metadata": {
        "id": "ehNdulzw_mgZ"
      }
    },
    {
      "cell_type": "code",
      "source": [
        "# Extracting the features and sample\n",
        "X = iris.data\n",
        "\n",
        "# Initializing the Principal Component Analysis technique\n",
        "pca = PCA(n_components=2, whiten=True)\n",
        "\n",
        "# Training the Principal Component Analysis technique\n",
        "pca = pca.fit(X)\n",
        "\n",
        "# Transforming the data according to PCA to only 2 features\n",
        "X_pca = pca.transform(X)"
      ],
      "metadata": {
        "id": "yMdmr5IPjbPm"
      },
      "execution_count": null,
      "outputs": []
    },
    {
      "cell_type": "markdown",
      "source": [
        "The attribute `components_` contains the principal axes in feature space, also known as the principal components. These components represent the directions of maximum variance in the original feature space. So, according to our 4D space, we reduce the data to a 2D plane, which is composed by two vector, which are the basis to this new plane where we are going to project the original values."
      ],
      "metadata": {
        "id": "7yXfyewDi5DN"
      }
    },
    {
      "cell_type": "code",
      "source": [
        "print('The components for our new plane are described by:')\n",
        "pca.components_"
      ],
      "metadata": {
        "colab": {
          "base_uri": "https://localhost:8080/"
        },
        "id": "Hr2eMyNJgqIJ",
        "outputId": "ef3ff3fe-dfda-4b8d-f110-a308e63d9bf1"
      },
      "execution_count": null,
      "outputs": [
        {
          "output_type": "stream",
          "name": "stdout",
          "text": [
            "The components for our new plane are described by:\n"
          ]
        },
        {
          "output_type": "execute_result",
          "data": {
            "text/plain": [
              "array([[ 0.36138659, -0.08452251,  0.85667061,  0.3582892 ],\n",
              "       [ 0.65658877,  0.73016143, -0.17337266, -0.07548102]])"
            ]
          },
          "metadata": {},
          "execution_count": 6
        }
      ]
    },
    {
      "cell_type": "markdown",
      "source": [
        "To see how our component are describing the variance of the dataset, we can use the attribute `explained_variance_ratio_`"
      ],
      "metadata": {
        "id": "2FOn5-m9zTGM"
      }
    },
    {
      "cell_type": "code",
      "source": [
        "print(f'The first component describe a variance of {pca.explained_variance_ratio_[0]}')\n",
        "print(f'The first component describe a variance of {pca.explained_variance_ratio_[1]}')\n",
        "print(f'The total of the variance explained is {sum(pca.explained_variance_ratio_)}')"
      ],
      "metadata": {
        "colab": {
          "base_uri": "https://localhost:8080/"
        },
        "id": "3MDFmWFBlMLG",
        "outputId": "6efb90c6-5459-48e2-88ae-9e775c69e55a"
      },
      "execution_count": null,
      "outputs": [
        {
          "output_type": "stream",
          "name": "stdout",
          "text": [
            "The first component describe a variance of 0.9246187232017271\n",
            "The first component describe a variance of 0.05306648311706782\n",
            "The total of the variance explained is 0.977685206318795\n"
          ]
        }
      ]
    },
    {
      "cell_type": "markdown",
      "source": [
        "After fitting the PCA model (pca.fit(X)), if you examine pca.explained_variance_ratio_, you will observe that the first component explains 92% of the variance, and the second component explains 5% of the variance.\n",
        "\n",
        "This means that when we project the data onto the principal components obtained from PCA, we retain the majority of the variance present in the original dataset. Specifically, by using only the first two principal components, we capture 97% (92% + 5%) of the total variance. This indicates that we lose less than 3% of the variance by reducing the dimensionality of the data using PCA.\n",
        "\n",
        "Therefore, we can conclude that the PCA technique effectively captures the essential information in the dataset while significantly reducing its dimensionality. This reduction can lead to simpler models and more efficient computations while preserving the majority of the dataset's variance."
      ],
      "metadata": {
        "id": "BajbyqfO4J32"
      }
    },
    {
      "cell_type": "markdown",
      "source": [
        "By performing Principal Component Analysis (PCA) and reducing the dimensionality of the dataset from 4 dimensions to 2 dimensions, we observe that the new 2-dimensional representation retains a significant amount of the original information. This suggests that the original 4 dimensions were not all necessary to capture the variability present in the dataset. Instead, the majority of the variance can be effectively captured and represented in just 2 dimensions. This reduction in dimensionality can lead to simpler models, improved interpretability, and more efficient computations without sacrificing much of the information inherent in the data."
      ],
      "metadata": {
        "id": "blApz5RLlETB"
      }
    },
    {
      "cell_type": "markdown",
      "source": [
        "Let us see the plot of the previous data with the new components as a basis:"
      ],
      "metadata": {
        "id": "47_8j5eI5Ddo"
      }
    },
    {
      "cell_type": "code",
      "source": [
        "colors = ['red', 'magenta', 'blue']\n",
        "target_ids = range(len(iris.target_names))\n",
        "pl.figure()\n",
        "for n_id, color, label in zip(target_ids, colors, iris.target_names):\n",
        "    pl.scatter(X_pca[iris.target == n_id, 0], X_pca[iris.target == n_id, 1],\n",
        "        c=color, label=label)\n",
        "pl.legend()\n",
        "pl.show()"
      ],
      "metadata": {
        "colab": {
          "base_uri": "https://localhost:8080/",
          "height": 432
        },
        "id": "En-qDpoIlMx_",
        "outputId": "4a847df2-bbcc-4f00-857c-17af5609d0f5"
      },
      "execution_count": null,
      "outputs": [
        {
          "output_type": "display_data",
          "data": {
            "text/plain": [
              "<Figure size 640x480 with 1 Axes>"
            ],
            "image/png": "[encoded data removed]"
          },
          "metadata": {}
        }
      ]
    },
    {
      "cell_type": "markdown",
      "source": [
        "### **PCA with 1-component**"
      ],
      "metadata": {
        "id": "kK6yL5h-_etW"
      }
    },
    {
      "cell_type": "markdown",
      "source": [
        "We can use the principal component analysis to reduce the problem to 1 dimension."
      ],
      "metadata": {
        "id": "RrQVKeP8-i2K"
      }
    },
    {
      "cell_type": "code",
      "source": [
        "# Initializing the Principal Component Analysis technique\n",
        "pca_1D = PCA(n_components=1, whiten=True)\n",
        "\n",
        "# Training the Principal Component Analysis technique\n",
        "pca_1D = pca_1D.fit(X)\n",
        "\n",
        "# Transforming the data according to PCA to only 2 features\n",
        "X_pca_1D = pca_1D.transform(X)\n",
        "\n",
        "X_pca_1D"
      ],
      "metadata": {
        "colab": {
          "base_uri": "https://localhost:8080/"
        },
        "id": "2mV-aSVD-h2C",
        "outputId": "6299ea41-0d28-4cfd-dbe7-ecff2fd091c3"
      },
      "execution_count": null,
      "outputs": [
        {
          "output_type": "execute_result",
          "data": {
            "text/plain": [
              "array([[-1.30533786],\n",
              "       [-1.31993521],\n",
              "       [-1.40496732],\n",
              "       [-1.33510889],\n",
              "       [-1.32702321],\n",
              "       [-1.10922246],\n",
              "       [-1.3716775 ],\n",
              "       [-1.27714084],\n",
              "       [-1.40369908],\n",
              "       [-1.29980851],\n",
              "       [-1.2191728 ],\n",
              "       [-1.27062918],\n",
              "       [-1.35493432],\n",
              "       [-1.5677929 ],\n",
              "       [-1.28618899],\n",
              "       [-1.16037307],\n",
              "       [-1.2758681 ],\n",
              "       [-1.28791362],\n",
              "       [-1.06981161],\n",
              "       [-1.25858365],\n",
              "       [-1.12351854],\n",
              "       [-1.23704894],\n",
              "       [-1.56396833],\n",
              "       [-1.11985996],\n",
              "       [-1.14564495],\n",
              "       [-1.21903752],\n",
              "       [-1.20063096],\n",
              "       [-1.24610158],\n",
              "       [-1.28365251],\n",
              "       [-1.27998309],\n",
              "       [-1.25829774],\n",
              "       [-1.17199289],\n",
              "       [-1.2881887 ],\n",
              "       [-1.26381174],\n",
              "       [-1.28238428],\n",
              "       [-1.39390411],\n",
              "       [-1.27669979],\n",
              "       [-1.36202232],\n",
              "       [-1.44947097],\n",
              "       [-1.25956597],\n",
              "       [-1.3471499 ],\n",
              "       [-1.3856985 ],\n",
              "       [-1.45769193],\n",
              "       [-1.16989296],\n",
              "       [-1.07451378],\n",
              "       [-1.32008584],\n",
              "       [-1.23434648],\n",
              "       [-1.38088078],\n",
              "       [-1.23674767],\n",
              "       [-1.31469177],\n",
              "       [ 0.6248335 ],\n",
              "       [ 0.4534857 ],\n",
              "       [ 0.71211617],\n",
              "       [ 0.08915066],\n",
              "       [ 0.5291639 ],\n",
              "       [ 0.31205505],\n",
              "       [ 0.53254741],\n",
              "       [-0.36431163],\n",
              "       [ 0.50777981],\n",
              "       [-0.00425305],\n",
              "       [-0.24697202],\n",
              "       [ 0.24884808],\n",
              "       [ 0.12886277],\n",
              "       [ 0.47899111],\n",
              "       [-0.08458299],\n",
              "       [ 0.45123514],\n",
              "       [ 0.3211077 ],\n",
              "       [ 0.11482204],\n",
              "       [ 0.45944076],\n",
              "       [ 0.02199468],\n",
              "       [ 0.54286829],\n",
              "       [ 0.17404748],\n",
              "       [ 0.63132983],\n",
              "       [ 0.44825311],\n",
              "       [ 0.34764584],\n",
              "       [ 0.43777075],\n",
              "       [ 0.64778709],\n",
              "       [ 0.7575868 ],\n",
              "       [ 0.39551766],\n",
              "       [-0.14861081],\n",
              "       [-0.03313112],\n",
              "       [-0.09221677],\n",
              "       [ 0.0663477 ],\n",
              "       [ 0.67113131],\n",
              "       [ 0.28595795],\n",
              "       [ 0.3923895 ],\n",
              "       [ 0.59364361],\n",
              "       [ 0.39639526],\n",
              "       [ 0.11961358],\n",
              "       [ 0.0809297 ],\n",
              "       [ 0.22604062],\n",
              "       [ 0.43321922],\n",
              "       [ 0.11211959],\n",
              "       [-0.34262628],\n",
              "       [ 0.17360643],\n",
              "       [ 0.16142562],\n",
              "       [ 0.18296034],\n",
              "       [ 0.3124961 ],\n",
              "       [-0.44083236],\n",
              "       [ 0.14540941],\n",
              "       [ 1.23096388],\n",
              "       [ 0.68825429],\n",
              "       [ 1.27253592],\n",
              "       [ 0.95879049],\n",
              "       [ 1.14284953],\n",
              "       [ 1.65204014],\n",
              "       [ 0.25348448],\n",
              "       [ 1.42616907],\n",
              "       [ 1.12885471],\n",
              "       [ 1.41846769],\n",
              "       [ 0.80815022],\n",
              "       [ 0.87702633],\n",
              "       [ 1.05316567],\n",
              "       [ 0.65466321],\n",
              "       [ 0.771265  ],\n",
              "       [ 0.92617089],\n",
              "       [ 0.94816834],\n",
              "       [ 1.69581683],\n",
              "       [ 1.84588964],\n",
              "       [ 0.63259806],\n",
              "       [ 1.18069088],\n",
              "       [ 0.58309549],\n",
              "       [ 1.70207314],\n",
              "       [ 0.67538158],\n",
              "       [ 1.10658218],\n",
              "       [ 1.27127853],\n",
              "       [ 0.61203482],\n",
              "       [ 0.6279004 ],\n",
              "       [ 1.03274856],\n",
              "       [ 1.16132819],\n",
              "       [ 1.38195584],\n",
              "       [ 1.57113386],\n",
              "       [ 1.0501728 ],\n",
              "       [ 0.70232121],\n",
              "       [ 0.86627524],\n",
              "       [ 1.49615644],\n",
              "       [ 1.04278353],\n",
              "       [ 0.92648299],\n",
              "       [ 0.56866412],\n",
              "       [ 1.02496865],\n",
              "       [ 1.12541445],\n",
              "       [ 0.9348329 ],\n",
              "       [ 0.68825429],\n",
              "       [ 1.24643883],\n",
              "       [ 1.17627914],\n",
              "       [ 0.94545505],\n",
              "       [ 0.74268819],\n",
              "       [ 0.85803259],\n",
              "       [ 0.9244616 ],\n",
              "       [ 0.67607348]])"
            ]
          },
          "metadata": {},
          "execution_count": 9
        }
      ]
    },
    {
      "cell_type": "code",
      "source": [
        "print('The components for our new plane are described by:')\n",
        "pca_1D.components_"
      ],
      "metadata": {
        "colab": {
          "base_uri": "https://localhost:8080/"
        },
        "id": "I91NUqGc_ESC",
        "outputId": "f293a61c-72ae-4d9a-dfd8-77bc92d1116c"
      },
      "execution_count": null,
      "outputs": [
        {
          "output_type": "stream",
          "name": "stdout",
          "text": [
            "The components for our new plane are described by:\n"
          ]
        },
        {
          "output_type": "execute_result",
          "data": {
            "text/plain": [
              "array([[ 0.36138659, -0.08452251,  0.85667061,  0.3582892 ]])"
            ]
          },
          "metadata": {},
          "execution_count": 10
        }
      ]
    },
    {
      "cell_type": "code",
      "source": [
        "print(f'The first component describe a variance of {pca.explained_variance_ratio_[0]}')"
      ],
      "metadata": {
        "colab": {
          "base_uri": "https://localhost:8080/"
        },
        "id": "AprrUXsP_Pgk",
        "outputId": "bfa6f6f5-ef61-4463-9ea4-eee769e52b3a"
      },
      "execution_count": null,
      "outputs": [
        {
          "output_type": "stream",
          "name": "stdout",
          "text": [
            "The first component describe a variance of 0.9246187232017271\n"
          ]
        }
      ]
    },
    {
      "cell_type": "markdown",
      "source": [
        "After fitting the PCA model (pca.fit(X)), if you examine pca.explained_variance_ratio_, you will observe that the component explains 92% of the variance."
      ],
      "metadata": {
        "id": "NeUaqJt3_Zuf"
      }
    },
    {
      "cell_type": "code",
      "source": [
        "colors = ['red', 'magenta', 'blue']\n",
        "target_ids = range(len(iris.target_names))\n",
        "pl.figure()\n",
        "for name, color, label in zip(target_ids, colors, iris.target_names):\n",
        "    pl.scatter(X_pca_1D[iris.target == name, 0], [0] * len(X_pca_1D[iris.target == name, 0]),\n",
        "        c=color, label=label)\n",
        "pl.legend()\n",
        "pl.show()"
      ],
      "metadata": {
        "colab": {
          "base_uri": "https://localhost:8080/",
          "height": 430
        },
        "id": "mNclyAcFBQnn",
        "outputId": "0350269b-31b0-4827-ed45-c097baafa597"
      },
      "execution_count": null,
      "outputs": [
        {
          "output_type": "display_data",
          "data": {
            "text/plain": [
              "<Figure size 640x480 with 1 Axes>"
            ],
            "image/png": "[encoded data removed]"
          },
          "metadata": {}
        }
      ]
    }
  ]
}